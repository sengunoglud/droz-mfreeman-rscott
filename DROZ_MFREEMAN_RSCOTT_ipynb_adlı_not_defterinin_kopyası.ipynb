{
  "nbformat": 4,
  "nbformat_minor": 0,
  "metadata": {
    "colab": {
      "name": "DROZ-MFREEMAN-RSCOTT.ipynb adlı not defterinin kopyası",
      "provenance": [],
      "collapsed_sections": []
    },
    "kernelspec": {
      "name": "python3",
      "display_name": "Python 3"
    },
    "language_info": {
      "name": "python"
    }
  },
  "cells": [
    {
      "cell_type": "code",
      "metadata": {
        "id": "_ynV4PJ4Tj-3"
      },
      "source": [
        "import csv \n",
        "import os \n",
        "import pandas as pd"
      ],
      "execution_count": null,
      "outputs": []
    },
    {
      "cell_type": "code",
      "metadata": {
        "id": "8NE_fdUqXJYr"
      },
      "source": [
        "filenames = os.listdir()\n",
        "dr_oz_files = []\n",
        "for filename in filenames:\n",
        "  if filename.endswith(\"DR.ÖZ - Kopya.csv\"):\n",
        "     dr_oz_files.append(filename)\n",
        "m_freeman_files = []\n",
        "for filename in filenames:\n",
        "  if filename.endswith(\"M.FREEMAN - Kopya.csv\"):\n",
        "    m_freeman_files.append(filename)\n",
        "r_scott_files = []\n",
        "for filename in filenames:\n",
        "  if filename.endswith(\"R.SCOTT - Kopya.csv\"):\n",
        "    r_scott_files.append(filename)\n",
        "\n"
      ],
      "execution_count": null,
      "outputs": []
    },
    {
      "cell_type": "code",
      "metadata": {
        "colab": {
          "base_uri": "https://localhost:8080/"
        },
        "id": "MUIx0Zi5TzJt",
        "outputId": "0915491f-79ff-4857-d281-893511bcb2cf"
      },
      "source": [
        "m_freeman_index = ([*range(5,42)])\n",
        "m_freeman_index.append(1)\n",
        "m_freeman_index.append(2)\n",
        "m_freeman_index"
      ],
      "execution_count": null,
      "outputs": [
        {
          "output_type": "execute_result",
          "data": {
            "text/plain": [
              "[5,\n",
              " 6,\n",
              " 7,\n",
              " 8,\n",
              " 9,\n",
              " 10,\n",
              " 11,\n",
              " 12,\n",
              " 13,\n",
              " 14,\n",
              " 15,\n",
              " 16,\n",
              " 17,\n",
              " 18,\n",
              " 19,\n",
              " 20,\n",
              " 21,\n",
              " 22,\n",
              " 23,\n",
              " 24,\n",
              " 25,\n",
              " 26,\n",
              " 27,\n",
              " 28,\n",
              " 29,\n",
              " 30,\n",
              " 31,\n",
              " 32,\n",
              " 33,\n",
              " 34,\n",
              " 35,\n",
              " 36,\n",
              " 37,\n",
              " 38,\n",
              " 39,\n",
              " 40,\n",
              " 41,\n",
              " 1,\n",
              " 2]"
            ]
          },
          "metadata": {
            "tags": []
          },
          "execution_count": 3
        }
      ]
    },
    {
      "cell_type": "code",
      "metadata": {
        "id": "05Sg5qDnRMU9"
      },
      "source": [
        "file_name_freeman = 'D{}-M.FREEMAN - Kopya.csv'\n",
        "df_list_freeman = []\n",
        "for i in m_freeman_index:\n",
        "    df_list_freeman.append(pd.read_csv(file_name_freeman.format(i)))\n",
        "df_freeman = pd.concat(df_list_freeman)"
      ],
      "execution_count": null,
      "outputs": []
    },
    {
      "cell_type": "code",
      "metadata": {
        "colab": {
          "base_uri": "https://localhost:8080/",
          "height": 419
        },
        "id": "yKbghdvMWJQs",
        "outputId": "3ac69a6b-3a02-4d99-eb68-6fb3fdae0538"
      },
      "source": [
        "df_freeman"
      ],
      "execution_count": null,
      "outputs": [
        {
          "output_type": "execute_result",
          "data": {
            "text/html": [
              "<div>\n",
              "<style scoped>\n",
              "    .dataframe tbody tr th:only-of-type {\n",
              "        vertical-align: middle;\n",
              "    }\n",
              "\n",
              "    .dataframe tbody tr th {\n",
              "        vertical-align: top;\n",
              "    }\n",
              "\n",
              "    .dataframe thead th {\n",
              "        text-align: right;\n",
              "    }\n",
              "</style>\n",
              "<table border=\"1\" class=\"dataframe\">\n",
              "  <thead>\n",
              "    <tr style=\"text-align: right;\">\n",
              "      <th></th>\n",
              "      <th>contempt</th>\n",
              "      <th>disgust</th>\n",
              "      <th>fear</th>\n",
              "      <th>happiness</th>\n",
              "      <th>neutral</th>\n",
              "      <th>sadness</th>\n",
              "      <th>surprise</th>\n",
              "    </tr>\n",
              "  </thead>\n",
              "  <tbody>\n",
              "    <tr>\n",
              "      <th>0</th>\n",
              "      <td>0.000</td>\n",
              "      <td>0.0</td>\n",
              "      <td>0.0</td>\n",
              "      <td>0.0</td>\n",
              "      <td>0.976</td>\n",
              "      <td>0.024</td>\n",
              "      <td>0.0</td>\n",
              "    </tr>\n",
              "    <tr>\n",
              "      <th>1</th>\n",
              "      <td>0.000</td>\n",
              "      <td>0.0</td>\n",
              "      <td>0.0</td>\n",
              "      <td>0.0</td>\n",
              "      <td>0.986</td>\n",
              "      <td>0.014</td>\n",
              "      <td>0.0</td>\n",
              "    </tr>\n",
              "    <tr>\n",
              "      <th>2</th>\n",
              "      <td>0.000</td>\n",
              "      <td>0.0</td>\n",
              "      <td>0.0</td>\n",
              "      <td>0.0</td>\n",
              "      <td>0.992</td>\n",
              "      <td>0.008</td>\n",
              "      <td>0.0</td>\n",
              "    </tr>\n",
              "    <tr>\n",
              "      <th>3</th>\n",
              "      <td>0.000</td>\n",
              "      <td>0.0</td>\n",
              "      <td>0.0</td>\n",
              "      <td>0.0</td>\n",
              "      <td>0.996</td>\n",
              "      <td>0.004</td>\n",
              "      <td>0.0</td>\n",
              "    </tr>\n",
              "    <tr>\n",
              "      <th>4</th>\n",
              "      <td>0.000</td>\n",
              "      <td>0.0</td>\n",
              "      <td>0.0</td>\n",
              "      <td>0.0</td>\n",
              "      <td>0.989</td>\n",
              "      <td>0.011</td>\n",
              "      <td>0.0</td>\n",
              "    </tr>\n",
              "    <tr>\n",
              "      <th>...</th>\n",
              "      <td>...</td>\n",
              "      <td>...</td>\n",
              "      <td>...</td>\n",
              "      <td>...</td>\n",
              "      <td>...</td>\n",
              "      <td>...</td>\n",
              "      <td>...</td>\n",
              "    </tr>\n",
              "    <tr>\n",
              "      <th>87</th>\n",
              "      <td>0.002</td>\n",
              "      <td>0.0</td>\n",
              "      <td>0.0</td>\n",
              "      <td>0.0</td>\n",
              "      <td>0.793</td>\n",
              "      <td>0.206</td>\n",
              "      <td>0.0</td>\n",
              "    </tr>\n",
              "    <tr>\n",
              "      <th>88</th>\n",
              "      <td>0.002</td>\n",
              "      <td>0.0</td>\n",
              "      <td>0.0</td>\n",
              "      <td>0.0</td>\n",
              "      <td>0.913</td>\n",
              "      <td>0.085</td>\n",
              "      <td>0.0</td>\n",
              "    </tr>\n",
              "    <tr>\n",
              "      <th>89</th>\n",
              "      <td>0.005</td>\n",
              "      <td>0.0</td>\n",
              "      <td>0.0</td>\n",
              "      <td>0.0</td>\n",
              "      <td>0.973</td>\n",
              "      <td>0.021</td>\n",
              "      <td>0.0</td>\n",
              "    </tr>\n",
              "    <tr>\n",
              "      <th>90</th>\n",
              "      <td>0.003</td>\n",
              "      <td>0.0</td>\n",
              "      <td>0.0</td>\n",
              "      <td>0.0</td>\n",
              "      <td>0.962</td>\n",
              "      <td>0.034</td>\n",
              "      <td>0.0</td>\n",
              "    </tr>\n",
              "    <tr>\n",
              "      <th>91</th>\n",
              "      <td>0.003</td>\n",
              "      <td>0.0</td>\n",
              "      <td>0.0</td>\n",
              "      <td>0.0</td>\n",
              "      <td>0.977</td>\n",
              "      <td>0.020</td>\n",
              "      <td>0.0</td>\n",
              "    </tr>\n",
              "  </tbody>\n",
              "</table>\n",
              "<p>3528 rows × 7 columns</p>\n",
              "</div>"
            ],
            "text/plain": [
              "    contempt  disgust  fear  happiness  neutral  sadness  surprise\n",
              "0      0.000      0.0   0.0        0.0    0.976    0.024       0.0\n",
              "1      0.000      0.0   0.0        0.0    0.986    0.014       0.0\n",
              "2      0.000      0.0   0.0        0.0    0.992    0.008       0.0\n",
              "3      0.000      0.0   0.0        0.0    0.996    0.004       0.0\n",
              "4      0.000      0.0   0.0        0.0    0.989    0.011       0.0\n",
              "..       ...      ...   ...        ...      ...      ...       ...\n",
              "87     0.002      0.0   0.0        0.0    0.793    0.206       0.0\n",
              "88     0.002      0.0   0.0        0.0    0.913    0.085       0.0\n",
              "89     0.005      0.0   0.0        0.0    0.973    0.021       0.0\n",
              "90     0.003      0.0   0.0        0.0    0.962    0.034       0.0\n",
              "91     0.003      0.0   0.0        0.0    0.977    0.020       0.0\n",
              "\n",
              "[3528 rows x 7 columns]"
            ]
          },
          "metadata": {
            "tags": []
          },
          "execution_count": 7
        }
      ]
    },
    {
      "cell_type": "code",
      "metadata": {
        "id": "LC9x1Up-vdEi"
      },
      "source": [
        ""
      ],
      "execution_count": null,
      "outputs": []
    },
    {
      "cell_type": "code",
      "metadata": {
        "id": "426XFn3vW9v4"
      },
      "source": [
        "r_scott_index = m_freeman_index"
      ],
      "execution_count": null,
      "outputs": []
    },
    {
      "cell_type": "code",
      "metadata": {
        "colab": {
          "base_uri": "https://localhost:8080/"
        },
        "id": "Joztk4x0wPvf",
        "outputId": "25539961-8282-4175-dce7-085d13c30f6d"
      },
      "source": [
        "r_scott_index"
      ],
      "execution_count": null,
      "outputs": [
        {
          "output_type": "execute_result",
          "data": {
            "text/plain": [
              "[5,\n",
              " 6,\n",
              " 7,\n",
              " 8,\n",
              " 9,\n",
              " 10,\n",
              " 11,\n",
              " 12,\n",
              " 13,\n",
              " 14,\n",
              " 15,\n",
              " 16,\n",
              " 17,\n",
              " 18,\n",
              " 19,\n",
              " 20,\n",
              " 21,\n",
              " 22,\n",
              " 23,\n",
              " 24,\n",
              " 25,\n",
              " 26,\n",
              " 27,\n",
              " 28,\n",
              " 29,\n",
              " 30,\n",
              " 31,\n",
              " 32,\n",
              " 33,\n",
              " 34,\n",
              " 35,\n",
              " 36,\n",
              " 37,\n",
              " 38,\n",
              " 39,\n",
              " 41,\n",
              " 1,\n",
              " 2]"
            ]
          },
          "metadata": {
            "tags": []
          },
          "execution_count": 21
        }
      ]
    },
    {
      "cell_type": "code",
      "metadata": {
        "id": "wzLvNBg6Ynm8"
      },
      "source": [
        "file_name_scott = 'D{}-R.SCOTT - Kopya.csv'\n",
        "df_list_scott = []\n",
        "for i in r_scott_index:\n",
        "    df_list_scott.append(pd.read_csv(file_name_scott.format(i)))\n",
        "df_scott = pd.concat(df_list_scott)"
      ],
      "execution_count": null,
      "outputs": []
    },
    {
      "cell_type": "code",
      "metadata": {
        "colab": {
          "base_uri": "https://localhost:8080/",
          "height": 419
        },
        "id": "EOLLxieGY8NM",
        "outputId": "c6a66e85-4bbf-4e43-d6db-334bb239eb74"
      },
      "source": [
        "df_scott"
      ],
      "execution_count": null,
      "outputs": [
        {
          "output_type": "execute_result",
          "data": {
            "text/html": [
              "<div>\n",
              "<style scoped>\n",
              "    .dataframe tbody tr th:only-of-type {\n",
              "        vertical-align: middle;\n",
              "    }\n",
              "\n",
              "    .dataframe tbody tr th {\n",
              "        vertical-align: top;\n",
              "    }\n",
              "\n",
              "    .dataframe thead th {\n",
              "        text-align: right;\n",
              "    }\n",
              "</style>\n",
              "<table border=\"1\" class=\"dataframe\">\n",
              "  <thead>\n",
              "    <tr style=\"text-align: right;\">\n",
              "      <th></th>\n",
              "      <th>contempt</th>\n",
              "      <th>disgust</th>\n",
              "      <th>fear</th>\n",
              "      <th>happiness</th>\n",
              "      <th>neutral</th>\n",
              "      <th>sadness</th>\n",
              "      <th>surprise</th>\n",
              "    </tr>\n",
              "  </thead>\n",
              "  <tbody>\n",
              "    <tr>\n",
              "      <th>0</th>\n",
              "      <td>0.000</td>\n",
              "      <td>0.0</td>\n",
              "      <td>0.0</td>\n",
              "      <td>0.0</td>\n",
              "      <td>0.965</td>\n",
              "      <td>0.035</td>\n",
              "      <td>0.0</td>\n",
              "    </tr>\n",
              "    <tr>\n",
              "      <th>1</th>\n",
              "      <td>0.001</td>\n",
              "      <td>0.0</td>\n",
              "      <td>0.0</td>\n",
              "      <td>0.0</td>\n",
              "      <td>0.993</td>\n",
              "      <td>0.006</td>\n",
              "      <td>0.0</td>\n",
              "    </tr>\n",
              "    <tr>\n",
              "      <th>2</th>\n",
              "      <td>0.000</td>\n",
              "      <td>0.0</td>\n",
              "      <td>0.0</td>\n",
              "      <td>0.0</td>\n",
              "      <td>0.991</td>\n",
              "      <td>0.008</td>\n",
              "      <td>0.0</td>\n",
              "    </tr>\n",
              "    <tr>\n",
              "      <th>3</th>\n",
              "      <td>0.000</td>\n",
              "      <td>0.0</td>\n",
              "      <td>0.0</td>\n",
              "      <td>0.0</td>\n",
              "      <td>0.995</td>\n",
              "      <td>0.004</td>\n",
              "      <td>0.0</td>\n",
              "    </tr>\n",
              "    <tr>\n",
              "      <th>4</th>\n",
              "      <td>0.000</td>\n",
              "      <td>0.0</td>\n",
              "      <td>0.0</td>\n",
              "      <td>0.0</td>\n",
              "      <td>0.977</td>\n",
              "      <td>0.023</td>\n",
              "      <td>0.0</td>\n",
              "    </tr>\n",
              "    <tr>\n",
              "      <th>...</th>\n",
              "      <td>...</td>\n",
              "      <td>...</td>\n",
              "      <td>...</td>\n",
              "      <td>...</td>\n",
              "      <td>...</td>\n",
              "      <td>...</td>\n",
              "      <td>...</td>\n",
              "    </tr>\n",
              "    <tr>\n",
              "      <th>117</th>\n",
              "      <td>0.000</td>\n",
              "      <td>0.0</td>\n",
              "      <td>0.0</td>\n",
              "      <td>0.0</td>\n",
              "      <td>0.945</td>\n",
              "      <td>0.055</td>\n",
              "      <td>0.0</td>\n",
              "    </tr>\n",
              "    <tr>\n",
              "      <th>118</th>\n",
              "      <td>0.000</td>\n",
              "      <td>0.0</td>\n",
              "      <td>0.0</td>\n",
              "      <td>0.0</td>\n",
              "      <td>0.947</td>\n",
              "      <td>0.053</td>\n",
              "      <td>0.0</td>\n",
              "    </tr>\n",
              "    <tr>\n",
              "      <th>119</th>\n",
              "      <td>0.000</td>\n",
              "      <td>0.0</td>\n",
              "      <td>0.0</td>\n",
              "      <td>0.0</td>\n",
              "      <td>0.973</td>\n",
              "      <td>0.026</td>\n",
              "      <td>0.0</td>\n",
              "    </tr>\n",
              "    <tr>\n",
              "      <th>120</th>\n",
              "      <td>0.000</td>\n",
              "      <td>0.0</td>\n",
              "      <td>0.0</td>\n",
              "      <td>0.0</td>\n",
              "      <td>0.988</td>\n",
              "      <td>0.011</td>\n",
              "      <td>0.0</td>\n",
              "    </tr>\n",
              "    <tr>\n",
              "      <th>121</th>\n",
              "      <td>0.000</td>\n",
              "      <td>0.0</td>\n",
              "      <td>0.0</td>\n",
              "      <td>0.0</td>\n",
              "      <td>0.911</td>\n",
              "      <td>0.089</td>\n",
              "      <td>0.0</td>\n",
              "    </tr>\n",
              "  </tbody>\n",
              "</table>\n",
              "<p>4545 rows × 7 columns</p>\n",
              "</div>"
            ],
            "text/plain": [
              "     contempt  disgust  fear  happiness  neutral  sadness  surprise\n",
              "0       0.000      0.0   0.0        0.0    0.965    0.035       0.0\n",
              "1       0.001      0.0   0.0        0.0    0.993    0.006       0.0\n",
              "2       0.000      0.0   0.0        0.0    0.991    0.008       0.0\n",
              "3       0.000      0.0   0.0        0.0    0.995    0.004       0.0\n",
              "4       0.000      0.0   0.0        0.0    0.977    0.023       0.0\n",
              "..        ...      ...   ...        ...      ...      ...       ...\n",
              "117     0.000      0.0   0.0        0.0    0.945    0.055       0.0\n",
              "118     0.000      0.0   0.0        0.0    0.947    0.053       0.0\n",
              "119     0.000      0.0   0.0        0.0    0.973    0.026       0.0\n",
              "120     0.000      0.0   0.0        0.0    0.988    0.011       0.0\n",
              "121     0.000      0.0   0.0        0.0    0.911    0.089       0.0\n",
              "\n",
              "[4545 rows x 7 columns]"
            ]
          },
          "metadata": {
            "tags": []
          },
          "execution_count": 23
        }
      ]
    },
    {
      "cell_type": "code",
      "metadata": {
        "id": "SvKMpwsKY9uC"
      },
      "source": [
        "dr_oz_index = m_freeman_index"
      ],
      "execution_count": null,
      "outputs": []
    },
    {
      "cell_type": "code",
      "metadata": {
        "id": "mrUcC6TbZY5z"
      },
      "source": [
        "file_name_oz = 'D{}-DR.ÖZ - Kopya.csv'\n",
        "df_list_oz = []\n",
        "for i in dr_oz_index:\n",
        "    df_list_oz.append(pd.read_csv(file_name_oz.format(i)))\n",
        "df_oz = pd.concat(df_list_oz)"
      ],
      "execution_count": null,
      "outputs": []
    },
    {
      "cell_type": "code",
      "metadata": {
        "colab": {
          "base_uri": "https://localhost:8080/",
          "height": 419
        },
        "id": "EOCGZGCcZqoc",
        "outputId": "626f85db-4abc-4015-bd96-20441c7ef273"
      },
      "source": [
        "df_oz"
      ],
      "execution_count": null,
      "outputs": [
        {
          "output_type": "execute_result",
          "data": {
            "text/html": [
              "<div>\n",
              "<style scoped>\n",
              "    .dataframe tbody tr th:only-of-type {\n",
              "        vertical-align: middle;\n",
              "    }\n",
              "\n",
              "    .dataframe tbody tr th {\n",
              "        vertical-align: top;\n",
              "    }\n",
              "\n",
              "    .dataframe thead th {\n",
              "        text-align: right;\n",
              "    }\n",
              "</style>\n",
              "<table border=\"1\" class=\"dataframe\">\n",
              "  <thead>\n",
              "    <tr style=\"text-align: right;\">\n",
              "      <th></th>\n",
              "      <th>contempt</th>\n",
              "      <th>disgust</th>\n",
              "      <th>fear</th>\n",
              "      <th>happiness</th>\n",
              "      <th>neutral</th>\n",
              "      <th>sadness</th>\n",
              "      <th>surprise</th>\n",
              "    </tr>\n",
              "  </thead>\n",
              "  <tbody>\n",
              "    <tr>\n",
              "      <th>0</th>\n",
              "      <td>0.000</td>\n",
              "      <td>0.0</td>\n",
              "      <td>0.0</td>\n",
              "      <td>0.0</td>\n",
              "      <td>0.996</td>\n",
              "      <td>0.003</td>\n",
              "      <td>0.0</td>\n",
              "    </tr>\n",
              "    <tr>\n",
              "      <th>1</th>\n",
              "      <td>0.000</td>\n",
              "      <td>0.0</td>\n",
              "      <td>0.0</td>\n",
              "      <td>0.0</td>\n",
              "      <td>0.997</td>\n",
              "      <td>0.002</td>\n",
              "      <td>0.0</td>\n",
              "    </tr>\n",
              "    <tr>\n",
              "      <th>2</th>\n",
              "      <td>0.000</td>\n",
              "      <td>0.0</td>\n",
              "      <td>0.0</td>\n",
              "      <td>0.0</td>\n",
              "      <td>0.999</td>\n",
              "      <td>0.001</td>\n",
              "      <td>0.0</td>\n",
              "    </tr>\n",
              "    <tr>\n",
              "      <th>3</th>\n",
              "      <td>0.000</td>\n",
              "      <td>0.0</td>\n",
              "      <td>0.0</td>\n",
              "      <td>0.0</td>\n",
              "      <td>0.998</td>\n",
              "      <td>0.001</td>\n",
              "      <td>0.0</td>\n",
              "    </tr>\n",
              "    <tr>\n",
              "      <th>4</th>\n",
              "      <td>0.000</td>\n",
              "      <td>0.0</td>\n",
              "      <td>0.0</td>\n",
              "      <td>0.0</td>\n",
              "      <td>0.999</td>\n",
              "      <td>0.001</td>\n",
              "      <td>0.0</td>\n",
              "    </tr>\n",
              "    <tr>\n",
              "      <th>...</th>\n",
              "      <td>...</td>\n",
              "      <td>...</td>\n",
              "      <td>...</td>\n",
              "      <td>...</td>\n",
              "      <td>...</td>\n",
              "      <td>...</td>\n",
              "      <td>...</td>\n",
              "    </tr>\n",
              "    <tr>\n",
              "      <th>176</th>\n",
              "      <td>0.000</td>\n",
              "      <td>0.0</td>\n",
              "      <td>0.0</td>\n",
              "      <td>0.0</td>\n",
              "      <td>0.596</td>\n",
              "      <td>0.403</td>\n",
              "      <td>0.0</td>\n",
              "    </tr>\n",
              "    <tr>\n",
              "      <th>177</th>\n",
              "      <td>0.004</td>\n",
              "      <td>0.0</td>\n",
              "      <td>0.0</td>\n",
              "      <td>0.0</td>\n",
              "      <td>0.893</td>\n",
              "      <td>0.102</td>\n",
              "      <td>0.0</td>\n",
              "    </tr>\n",
              "    <tr>\n",
              "      <th>178</th>\n",
              "      <td>0.003</td>\n",
              "      <td>0.0</td>\n",
              "      <td>0.0</td>\n",
              "      <td>0.0</td>\n",
              "      <td>0.951</td>\n",
              "      <td>0.045</td>\n",
              "      <td>0.0</td>\n",
              "    </tr>\n",
              "    <tr>\n",
              "      <th>179</th>\n",
              "      <td>0.003</td>\n",
              "      <td>0.0</td>\n",
              "      <td>0.0</td>\n",
              "      <td>0.0</td>\n",
              "      <td>0.897</td>\n",
              "      <td>0.100</td>\n",
              "      <td>0.0</td>\n",
              "    </tr>\n",
              "    <tr>\n",
              "      <th>180</th>\n",
              "      <td>0.001</td>\n",
              "      <td>0.0</td>\n",
              "      <td>0.0</td>\n",
              "      <td>0.0</td>\n",
              "      <td>0.879</td>\n",
              "      <td>0.119</td>\n",
              "      <td>0.0</td>\n",
              "    </tr>\n",
              "  </tbody>\n",
              "</table>\n",
              "<p>6810 rows × 7 columns</p>\n",
              "</div>"
            ],
            "text/plain": [
              "     contempt  disgust  fear  happiness  neutral  sadness  surprise\n",
              "0       0.000      0.0   0.0        0.0    0.996    0.003       0.0\n",
              "1       0.000      0.0   0.0        0.0    0.997    0.002       0.0\n",
              "2       0.000      0.0   0.0        0.0    0.999    0.001       0.0\n",
              "3       0.000      0.0   0.0        0.0    0.998    0.001       0.0\n",
              "4       0.000      0.0   0.0        0.0    0.999    0.001       0.0\n",
              "..        ...      ...   ...        ...      ...      ...       ...\n",
              "176     0.000      0.0   0.0        0.0    0.596    0.403       0.0\n",
              "177     0.004      0.0   0.0        0.0    0.893    0.102       0.0\n",
              "178     0.003      0.0   0.0        0.0    0.951    0.045       0.0\n",
              "179     0.003      0.0   0.0        0.0    0.897    0.100       0.0\n",
              "180     0.001      0.0   0.0        0.0    0.879    0.119       0.0\n",
              "\n",
              "[6810 rows x 7 columns]"
            ]
          },
          "metadata": {
            "tags": []
          },
          "execution_count": 26
        }
      ]
    },
    {
      "cell_type": "code",
      "metadata": {
        "id": "iE025m5kZsHU"
      },
      "source": [
        "writer = pd.ExcelWriter('result_v5.xlsx')"
      ],
      "execution_count": null,
      "outputs": []
    },
    {
      "cell_type": "code",
      "metadata": {
        "id": "sNMzfw09_0QG"
      },
      "source": [
        "df_freeman[\"contempt\"].to_excel(writer, sheet_name='contempt',index=False,header=False)\n",
        "df_freeman[\"disgust\"].to_excel(writer, sheet_name='disgust',index=False,header=False)\n",
        "df_freeman[\"fear\"].to_excel(writer, sheet_name='fear',index=False,header=False)\n",
        "df_freeman[\"happiness\"].to_excel(writer, sheet_name='happiness',index=False,header=False)\n",
        "df_freeman[\"neutral\"].to_excel(writer, sheet_name='neutral',index=False,header=False)\n",
        "df_freeman[\"sadness\"].to_excel(writer, sheet_name='sadness',index=False,header=False)\n",
        "df_freeman[\"surprise\"].to_excel(writer, sheet_name='surprise',index=False,header=False)"
      ],
      "execution_count": null,
      "outputs": []
    },
    {
      "cell_type": "code",
      "metadata": {
        "id": "1lHTRrC5AxhM"
      },
      "source": [
        "writer.save()"
      ],
      "execution_count": null,
      "outputs": []
    },
    {
      "cell_type": "code",
      "metadata": {
        "id": "zSXq8Xr-_yq7"
      },
      "source": [
        "import openpyxl\n",
        "\n",
        "def add_column(sheet_name, column):\n",
        "    ws = wb[sheet_name]\n",
        "    new_column = ws.max_column + 1\n",
        "\n",
        "    for rowy, value in enumerate(column, start=1):\n",
        "        ws.cell(row=rowy, column=new_column, value=value)"
      ],
      "execution_count": null,
      "outputs": []
    },
    {
      "cell_type": "code",
      "metadata": {
        "id": "43Z3sVaJC7l9"
      },
      "source": [
        "wb = openpyxl.load_workbook('/content/result_v5.xlsx')"
      ],
      "execution_count": null,
      "outputs": []
    },
    {
      "cell_type": "code",
      "metadata": {
        "id": "PDALv9PQ99Vg"
      },
      "source": [
        "add_column('contempt', df_oz[\"contempt\"])\n",
        "add_column('disgust', df_oz['disgust'])\n",
        "add_column('fear', df_oz['fear'])\n",
        "add_column('happiness', df_oz['happiness'])\n",
        "add_column('neutral', df_oz['neutral'])\n",
        "add_column('sadness', df_oz['sadness'])\n",
        "add_column('surprise', df_oz['surprise'])"
      ],
      "execution_count": null,
      "outputs": []
    },
    {
      "cell_type": "code",
      "metadata": {
        "id": "k2sh039nFyLC"
      },
      "source": [
        "add_column('contempt', df_scott[\"contempt\"])\n",
        "add_column('disgust', df_scott['disgust'])\n",
        "add_column('fear', df_scott['fear'])\n",
        "add_column('happiness', df_scott['happiness'])\n",
        "add_column('neutral', df_scott['neutral'])\n",
        "add_column('sadness', df_scott['sadness'])\n",
        "add_column('surprise', df_scott['surprise'])"
      ],
      "execution_count": null,
      "outputs": []
    },
    {
      "cell_type": "code",
      "metadata": {
        "id": "Y8BBzAsQ-ic1"
      },
      "source": [
        "wb.save('output_v5.xlsx')"
      ],
      "execution_count": null,
      "outputs": []
    }
  ]
}